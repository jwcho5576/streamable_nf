{
 "cells": [
  {
   "cell_type": "code",
   "execution_count": null,
   "metadata": {},
   "outputs": [],
   "source": [
    "import matplotlib.pyplot as plt\n",
    "import torch\n",
    "import torch.optim as optim\n",
    "from PIL import Image\n",
    "from torchvision import transforms\n",
    "from tqdm import tqdm\n",
    "\n",
    "from metrics import MSE, PSNR\n",
    "from network import ProgressiveSiren\n",
    "from utils import make_grid2d"
   ]
  },
  {
   "cell_type": "markdown",
   "metadata": {},
   "source": [
    "Spectral growing of an image (Sec. 4.2)"
   ]
  },
  {
   "cell_type": "code",
   "execution_count": null,
   "metadata": {},
   "outputs": [],
   "source": [
    "# set random seed\n",
    "random_seed = 31210\n",
    "torch.manual_seed(random_seed)\n",
    "torch.backends.cudnn.deterministic = True\n",
    "torch.backends.cudnn.benchmark = False\n",
    "\n",
    "# select device\n",
    "device = torch.device(\"cuda\" if torch.cuda.is_available() else \"cpu\")\n",
    "\n",
    "# show target image to reconstruct\n",
    "y = Image.open('cameraman.tif')\n",
    "print('target size:', y.size)\n",
    "plt.imshow(y, cmap = 'gray')\n",
    "y = transforms.ToTensor()(y).to(device)\n",
    "C, H, W = y.shape\n",
    "x = make_grid2d(H, W).to(device)\n",
    "x = x.reshape(-1, 2)\n",
    "y = y.reshape(C, -1)"
   ]
  },
  {
   "cell_type": "code",
   "execution_count": null,
   "metadata": {},
   "outputs": [],
   "source": [
    "# create the streamable neural field network\n",
    "starting_width = 20\n",
    "increased_width = 20\n",
    "n_subnets = 4\n",
    "\n",
    "net = ProgressiveSiren(in_feats = 2, hidden_feats = starting_width, n_hidden_layers = 3, out_feats = 1)\n",
    "net.to(device)\n",
    "print(net)\n",
    "\n",
    "lr = 2e-4\n",
    "epochs = 5000\n",
    "# loss function\n",
    "mse = MSE()\n",
    "trained_widths = [starting_width]\n",
    "\n",
    "# training loop\n",
    "for i in range(n_subnets):\n",
    "    if i != 0:\n",
    "        # grow width\n",
    "        net.grow_width(width = increased_width)\n",
    "        trained_widths.append(trained_widths[-1] + increased_width)\n",
    "    net.select_subnet(i)\n",
    "    optimizer = optim.Adam(net.parameters(), lr = lr)\n",
    "    print(\"current width: {}\".format(trained_widths[-1]))\n",
    "    for e in tqdm(range(epochs)):\n",
    "        optimizer.zero_grad()               # clear gradients\n",
    "        yhat = net(x)                       # forward prop.\n",
    "        loss = mse(yhat.permute(1, 0), y)   # compute loss\n",
    "        loss.backward()                     # backward prop.\n",
    "        if i > 0:\n",
    "            net.freeze_subnet(i - 1)        # clear gradients of pretrained sub-network\n",
    "        optimizer.step()                    # update weights\n",
    "\n",
    "    print(\"MSE:\", loss.detach().cpu().numpy())\n",
    "    print()\n",
    "print(\"training done\")"
   ]
  },
  {
   "cell_type": "code",
   "execution_count": null,
   "metadata": {},
   "outputs": [],
   "source": [
    "# show results\n",
    "ax = []\n",
    "fig = plt.figure(figsize = (20, 10))\n",
    "with torch.no_grad():\n",
    "    net.eval()\n",
    "    for i, w in enumerate(trained_widths):\n",
    "        net.select_subnet(i)                    # select sub-network\n",
    "        yhat = net(x).reshape(H, W, C)          # forward prop.\n",
    "        y = y.reshape(H, W, C)\n",
    "        psnr = PSNR()(y.cpu(), yhat.cpu())      # compute PSNR\n",
    "        ax.append(fig.add_subplot(2, 4, i + 1))\n",
    "        ax[i].imshow(yhat.cpu(), cmap = 'gray')\n",
    "        plt.title(f'width: {w}, PSNR: {psnr:.2f}', fontsize = 20)\n",
    "\n",
    "    for i, w in enumerate(trained_widths):\n",
    "        if i == 0:\n",
    "            continue\n",
    "        net.select_subnet(i)                    # select sub-network\n",
    "        yhat_res = net.forward_residual(x)      # forward prop. for residual output\n",
    "        ax.append(fig.add_subplot(2, 4, i + 5))\n",
    "        ax[i + 3].imshow(yhat_res.reshape(H, W, C).cpu(), cmap = 'gray')\n",
    "        plt.title(f'width: {w} (residual)', fontsize = 20)"
   ]
  },
  {
   "cell_type": "markdown",
   "metadata": {},
   "source": [
    "Growing frequency spectrum (supplementary Sec. 2.1)"
   ]
  },
  {
   "cell_type": "code",
   "execution_count": null,
   "metadata": {},
   "outputs": [],
   "source": [
    "# load pretrained model\n",
    "net = net = ProgressiveSiren(in_feats = 2, hidden_feats = 120, n_hidden_layers = 4, out_feats = 3)\n",
    "net.to(device)\n",
    "trained_widths = [30, 60, 90, 120]\n",
    "for i in range(6):\n",
    "    net.net[i].subnet_widths = [30, 60, 90, 120]\n",
    "net.load_state_dict(torch.load('sunflower.pth'))\n",
    "print(net)\n",
    "C, H, W = 3, 800, 800\n",
    "x = make_grid2d(H, W).to(device)\n",
    "x = x.reshape(-1, 2)"
   ]
  },
  {
   "cell_type": "code",
   "execution_count": null,
   "metadata": {},
   "outputs": [],
   "source": [
    "# show results\n",
    "ax = []\n",
    "fig = plt.figure(figsize = (20, 10))\n",
    "with torch.no_grad():\n",
    "    net.eval()\n",
    "    for i, w in enumerate(trained_widths):\n",
    "        net.select_subnet(i)            # select sub-network\n",
    "        yhat = net(x).reshape(H, W, C)  # forward prop.\n",
    "        ax.append(fig.add_subplot(2, 4, i + 1))\n",
    "        ax[-1].imshow(yhat.cpu(), cmap = 'gray')\n",
    "        plt.title(f'width: {w}', fontsize = 20)\n",
    "        yhat_f = torch.sum(torch.log10(torch.abs(torch.fft.fft2(yhat.permute(2, 0, 1)))), 0)\n",
    "        yhat_f = torch.roll(yhat_f, shifts = (int(yhat_f.shape[0] / 2), int(yhat_f.shape[1] / 2)), dims = (0, 1))\n",
    "        ax.append(fig.add_subplot(2, 4, i + 5))\n",
    "        ax[-1].imshow(yhat_f.cpu(), cmap = 'magma')"
   ]
  }
 ],
 "metadata": {
  "interpreter": {
   "hash": "88e944612da00620aa4f7ffbdfd005a4177fff04bf0dc489f6e73f9c60a7a452"
  },
  "kernelspec": {
   "display_name": "Python 3.9.10 ('pnf': conda)",
   "language": "python",
   "name": "python3"
  },
  "language_info": {
   "codemirror_mode": {
    "name": "ipython",
    "version": 3
   },
   "file_extension": ".py",
   "mimetype": "text/x-python",
   "name": "python",
   "nbconvert_exporter": "python",
   "pygments_lexer": "ipython3",
   "version": "3.9.5"
  },
  "orig_nbformat": 4
 },
 "nbformat": 4,
 "nbformat_minor": 2
}
