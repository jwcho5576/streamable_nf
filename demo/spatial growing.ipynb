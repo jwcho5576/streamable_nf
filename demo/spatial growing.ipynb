{
 "cells": [
  {
   "cell_type": "code",
   "execution_count": null,
   "metadata": {},
   "outputs": [],
   "source": [
    "import matplotlib.pyplot as plt\n",
    "import torch\n",
    "import torch.optim as optim\n",
    "from PIL import Image\n",
    "from torchvision import transforms\n",
    "from tqdm import tqdm\n",
    "\n",
    "from metrics import MSE, PSNR\n",
    "from network import ProgressiveSiren\n",
    "from utils import make_grid2d"
   ]
  },
  {
   "cell_type": "markdown",
   "metadata": {},
   "source": [
    "Spatial growing of an image (Sec. 4.3)"
   ]
  },
  {
   "cell_type": "code",
   "execution_count": null,
   "metadata": {},
   "outputs": [],
   "source": [
    "#set random seed\n",
    "random_seed = 31210\n",
    "torch.manual_seed(random_seed)\n",
    "torch.backends.cudnn.deterministic = True\n",
    "torch.backends.cudnn.benchmark = False\n",
    "\n",
    "device = torch.device(\"cuda\" if torch.cuda.is_available() else \"cpu\")\n",
    "\n",
    "#show target image to reconstruct\n",
    "y = Image.open('cameraman.tif')\n",
    "print('target size:', y.size)\n",
    "plt.imshow(y, cmap = 'gray')\n",
    "y = transforms.ToTensor()(y)\n",
    "C, H, W = y.shape\n",
    "x = make_grid2d(H, W).to(device)\n",
    "x = x.reshape(-1, 2)"
   ]
  },
  {
   "cell_type": "code",
   "execution_count": null,
   "metadata": {},
   "outputs": [],
   "source": [
    "# create image patches\n",
    "y_patch = []\n",
    "for i in range(4):\n",
    "    temp = y.clone()\n",
    "    y_patch.append(temp.index_fill_(2, torch.arange(int(W / 4 * (i + 1)), W), 0).reshape(C, -1))"
   ]
  },
  {
   "cell_type": "code",
   "execution_count": null,
   "metadata": {},
   "outputs": [],
   "source": [
    "#create the streamable neural field network\n",
    "starting_width = 31\n",
    "increased_width = [0, 20, 15, 13]\n",
    "n_subnets = 4\n",
    "\n",
    "net = ProgressiveSiren(in_feats = 2, hidden_feats = starting_width, n_hidden_layers = 3, out_feats = 1)\n",
    "net.to(device)\n",
    "print(net)\n",
    "\n",
    "lr = 2e-4\n",
    "epochs = 5000\n",
    "# loss function\n",
    "mse = MSE()\n",
    "trained_widths = [starting_width]\n",
    "\n",
    "#training loop\n",
    "for i in range(n_subnets):\n",
    "    if i != 0:\n",
    "        # grow width\n",
    "        net.grow_width(width = increased_width[i])\n",
    "        trained_widths.append(trained_widths[-1] + increased_width[i])\n",
    "    net.select_subnet(i)\n",
    "    optimizer = optim.Adam(net.parameters(), lr = lr)\n",
    "    print(\"current width: {}\".format(trained_widths[-1]))\n",
    "    for e in tqdm(range(epochs)):\n",
    "        optimizer.zero_grad()                                   # clear gradients\n",
    "        yhat = net(x)                                           # forward prop.\n",
    "        loss = mse(yhat.permute(1, 0), y_patch[i].to(device))   # compute loss\n",
    "        loss.backward()                                         # backward prop.\n",
    "        if i > 0:  \n",
    "            net.freeze_subnet(i - 1)                            # clear gradients of pretrained sub-network\n",
    "        optimizer.step()                                        # update weights\n",
    "\n",
    "    print(\"MSE:\", loss.detach().cpu().numpy())\n",
    "    print()\n",
    "print(\"training done\")"
   ]
  },
  {
   "cell_type": "code",
   "execution_count": null,
   "metadata": {},
   "outputs": [],
   "source": [
    "# show results\n",
    "import numpy as np\n",
    "ax = []\n",
    "fig = plt.figure(figsize = (20, 10))\n",
    "with torch.no_grad():\n",
    "    net.eval()\n",
    "    for i, w in enumerate(trained_widths):\n",
    "        net.select_subnet(i)                        # select sub-network\n",
    "        yhat = net(x).reshape(H, W, C)              # forward prop.\n",
    "        y_patch[i] = y_patch[i].reshape(H, W, C)\n",
    "        # compute PSNR\n",
    "        psnr = PSNR()(y_patch[i][:, :, :int(W / 4 * (i + 1))].cpu(), yhat[:, :, :int(W / 4 * (i + 1))].cpu())\n",
    "        ax.append(fig.add_subplot(2, 4, i + 1))\n",
    "        ax[i].imshow(yhat.cpu(), cmap = 'gray')\n",
    "        plt.title(f'width: {w}, PSNR: {psnr:.2f}', fontsize = 20)\n",
    "\n",
    "    for i, w in enumerate(trained_widths):\n",
    "        if i == 0:\n",
    "            continue\n",
    "        net.select_subnet(i)                        # select sub-network\n",
    "        yhat_res = net.forward_residual(x)          # forward prop. for residual output\n",
    "        ax.append(fig.add_subplot(2, 4, i + 5))\n",
    "        ax[i + 3].imshow(yhat_res.reshape(H, W, C).cpu(), cmap = 'gray')\n",
    "        plt.title(f'width: {w} (residual)', fontsize = 20)"
   ]
  }
 ],
 "metadata": {
  "interpreter": {
   "hash": "88e944612da00620aa4f7ffbdfd005a4177fff04bf0dc489f6e73f9c60a7a452"
  },
  "kernelspec": {
   "display_name": "Python 3.9.10 ('pnf': conda)",
   "language": "python",
   "name": "python3"
  },
  "language_info": {
   "codemirror_mode": {
    "name": "ipython",
    "version": 3
   },
   "file_extension": ".py",
   "mimetype": "text/x-python",
   "name": "python",
   "nbconvert_exporter": "python",
   "pygments_lexer": "ipython3",
   "version": "3.9.5"
  },
  "orig_nbformat": 4
 },
 "nbformat": 4,
 "nbformat_minor": 2
}
